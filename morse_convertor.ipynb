{
 "cells": [
  {
   "cell_type": "code",
   "execution_count": 3,
   "metadata": {},
   "outputs": [],
   "source": [
    "def main():\n",
    "    char_to_dots = {\n",
    "        'A': '.-',\n",
    "        'B': '-...',\n",
    "        'C': '-.-.',\n",
    "        'D': '-..',\n",
    "        'E': '.',\n",
    "        'F': '..-.',\n",
    "        'G': '--.',\n",
    "        'H': '....',\n",
    "        'I': '..',\n",
    "        'J': '.---',\n",
    "        'K': '-.-',\n",
    "        'L': '.-..',\n",
    "        'M': '--',\n",
    "        'N': '-.',\n",
    "        'O': '---',\n",
    "        'P': '.--.',\n",
    "        'Q': '--.-',\n",
    "        'R': '.-.',\n",
    "        'S': '...',\n",
    "        'T': '-',\n",
    "        'U': '..-',\n",
    "        'V': '...-',\n",
    "        'W': '.--',\n",
    "        'X': '-..-',\n",
    "        'Y': '-.--',\n",
    "        'Z': '--..',\n",
    "        ' ': ' ',\n",
    "        '0': '-----',\n",
    "        '1': '.----',\n",
    "        '2': '..---',\n",
    "        '3': '...--',\n",
    "        '4': '....-',\n",
    "        '5': '.....',\n",
    "        '6': '-....',\n",
    "        '7': '--...',\n",
    "        '8': '---..',\n",
    "        '9': '----.',\n",
    "        '&': '.-...',\n",
    "        \"'\": '.----.',\n",
    "        '@': '.--.-.',\n",
    "        ')': '-.--.-',\n",
    "        '(': '-.--.',\n",
    "        ':': '---...',\n",
    "        ',': '--..--',\n",
    "        '=': '-...-',\n",
    "        '!': '-.-.--',\n",
    "        '.': '.-.-.-',\n",
    "        '-': '-....-',\n",
    "        '+': '.-.-.',\n",
    "        '\"': '.-..-.',\n",
    "        '?': '..--..',\n",
    "        '/': '-..-.'\n",
    "    }\n",
    "\n",
    "\n",
    "    def encode_morse(text):\n",
    "        result = ''\n",
    "        for i in range(len(input_str)):\n",
    "            ch = text[i].upper()\n",
    "            if ch in char_to_dots:\n",
    "                result += (char_to_dots[ch]+' ')\n",
    "            else:\n",
    "                result = 'invalid character : '+ch\n",
    "                break\n",
    "        return result\n",
    "\n",
    "\n",
    "    input_str = input('Please enter a text : ')\n",
    "    print(encode_morse(input_str))"
   ]
  },
  {
   "cell_type": "code",
   "execution_count": 4,
   "metadata": {},
   "outputs": [
    {
     "name": "stdout",
     "output_type": "stream",
     "text": [
      "Please enter a text : EDABBIT CHALLENGE\n",
      ". -.. .- -... -... .. -   -.-. .... .- .-.. .-.. . -. --. . \n"
     ]
    }
   ],
   "source": [
    "main()"
   ]
  },
  {
   "cell_type": "code",
   "execution_count": null,
   "metadata": {},
   "outputs": [],
   "source": [
    "main()"
   ]
  },
  {
   "cell_type": "code",
   "execution_count": null,
   "metadata": {},
   "outputs": [],
   "source": []
  }
 ],
 "metadata": {
  "kernelspec": {
   "display_name": "Python 3",
   "language": "python",
   "name": "python3"
  },
  "language_info": {
   "codemirror_mode": {
    "name": "ipython",
    "version": 3
   },
   "file_extension": ".py",
   "mimetype": "text/x-python",
   "name": "python",
   "nbconvert_exporter": "python",
   "pygments_lexer": "ipython3",
   "version": "3.8.3"
  }
 },
 "nbformat": 4,
 "nbformat_minor": 4
}
