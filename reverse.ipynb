{
 "cells": [
  {
   "cell_type": "code",
   "execution_count": 1,
   "metadata": {},
   "outputs": [],
   "source": [
    "def main():\n",
    "    vowel_to_number = [\n",
    "    ('a', '0'),\n",
    "    ('e', '1'),\n",
    "    ('i', '2'),\n",
    "    ('o', '2'),\n",
    "    ('u', '3')\n",
    "    ]\n",
    "\n",
    "    input_str = input('Please enter a lower case text : ')\n",
    "\n",
    "    if not input_str.islower():\n",
    "        print('illegal input string')\n",
    "    else:\n",
    "        input_str = input_str[::-1]\n",
    "        for i in range(len(vowel_to_number)):\n",
    "            input_str = input_str.replace(vowel_to_number[i][0], vowel_to_number[i][1])\n",
    "        input_str += 'aca'\n",
    "\n",
    "    print(input_str)"
   ]
  },
  {
   "cell_type": "code",
   "execution_count": 2,
   "metadata": {},
   "outputs": [
    {
     "name": "stdout",
     "output_type": "stream",
     "text": [
      "Please enter a lower case text : banana\n",
      "0n0n0baca\n"
     ]
    }
   ],
   "source": [
    "main()"
   ]
  },
  {
   "cell_type": "code",
   "execution_count": 3,
   "metadata": {},
   "outputs": [
    {
     "name": "stdout",
     "output_type": "stream",
     "text": [
      "Please enter a lower case text : karaca\n",
      "0c0r0kaca\n"
     ]
    }
   ],
   "source": [
    "main()"
   ]
  },
  {
   "cell_type": "code",
   "execution_count": 4,
   "metadata": {},
   "outputs": [
    {
     "name": "stdout",
     "output_type": "stream",
     "text": [
      "Please enter a lower case text : burak\n",
      "k0r3baca\n"
     ]
    }
   ],
   "source": [
    "main()"
   ]
  },
  {
   "cell_type": "code",
   "execution_count": 5,
   "metadata": {},
   "outputs": [
    {
     "name": "stdout",
     "output_type": "stream",
     "text": [
      "Please enter a lower case text : alpaca\n",
      "0c0pl0aca\n"
     ]
    }
   ],
   "source": [
    "main()"
   ]
  }
 ],
 "metadata": {
  "kernelspec": {
   "display_name": "Python 3",
   "language": "python",
   "name": "python3"
  },
  "language_info": {
   "codemirror_mode": {
    "name": "ipython",
    "version": 3
   },
   "file_extension": ".py",
   "mimetype": "text/x-python",
   "name": "python",
   "nbconvert_exporter": "python",
   "pygments_lexer": "ipython3",
   "version": "3.8.3"
  }
 },
 "nbformat": 4,
 "nbformat_minor": 4
}
