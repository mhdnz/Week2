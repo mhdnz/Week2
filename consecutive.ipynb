{
 "cells": [
  {
   "cell_type": "code",
   "execution_count": 1,
   "metadata": {},
   "outputs": [],
   "source": [
    "def main():\n",
    "\n",
    "    list1 = input('Please enter first list : ').split(',')\n",
    "    list2 = input('Please enter second list : ').split(',')\n",
    "\n",
    "    result = list1 + list2\n",
    "\n",
    "    minimum = maximum = int(result[0])\n",
    "    for i in range(len(result)):\n",
    "        num = int(result[i])\n",
    "        if num < minimum:\n",
    "            minimum = num\n",
    "        else:\n",
    "            if num > maximum:\n",
    "                maximum = num\n",
    "\n",
    "    if maximum - minimum == len(result)-1:\n",
    "        print('True')\n",
    "    else:\n",
    "        print('False')\n"
   ]
  },
  {
   "cell_type": "code",
   "execution_count": 2,
   "metadata": {},
   "outputs": [
    {
     "name": "stdout",
     "output_type": "stream",
     "text": [
      "Please enter first list : 7,4,5,1\n",
      "Please enter second list : 2,3,6\n",
      "True\n"
     ]
    }
   ],
   "source": [
    "main()"
   ]
  },
  {
   "cell_type": "code",
   "execution_count": 3,
   "metadata": {},
   "outputs": [
    {
     "name": "stdout",
     "output_type": "stream",
     "text": [
      "Please enter first list : 1,4,6,5\n",
      "Please enter second list : 2,7,8,9\n",
      "False\n"
     ]
    }
   ],
   "source": [
    "main()"
   ]
  },
  {
   "cell_type": "code",
   "execution_count": 4,
   "metadata": {},
   "outputs": [
    {
     "name": "stdout",
     "output_type": "stream",
     "text": [
      "Please enter first list : 1,4,5,6\n",
      "Please enter second list : 2,3,7,8,10\n",
      "False\n"
     ]
    }
   ],
   "source": [
    "main()"
   ]
  },
  {
   "cell_type": "code",
   "execution_count": 5,
   "metadata": {},
   "outputs": [
    {
     "name": "stdout",
     "output_type": "stream",
     "text": [
      "Please enter first list : 44,46\n",
      "Please enter second list : 45\n",
      "True\n"
     ]
    }
   ],
   "source": [
    "main()"
   ]
  }
 ],
 "metadata": {
  "kernelspec": {
   "display_name": "Python 3",
   "language": "python",
   "name": "python3"
  },
  "language_info": {
   "codemirror_mode": {
    "name": "ipython",
    "version": 3
   },
   "file_extension": ".py",
   "mimetype": "text/x-python",
   "name": "python",
   "nbconvert_exporter": "python",
   "pygments_lexer": "ipython3",
   "version": "3.8.3"
  }
 },
 "nbformat": 4,
 "nbformat_minor": 4
}
