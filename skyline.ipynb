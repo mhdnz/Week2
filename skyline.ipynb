{
 "cells": [
  {
   "cell_type": "code",
   "execution_count": 1,
   "metadata": {},
   "outputs": [],
   "source": [
    "def main():\n",
    "    building_cnt = int(input('Please enter building number : '))\n",
    "    print('Please enter rows using 0,1 digits . Enter \"END\" when you finished')\n",
    "\n",
    "    result = []\n",
    "    while True:\n",
    "        row_list = input().split(',')\n",
    "        if row_list[0] == 'END':\n",
    "            break\n",
    "        result.append(row_list)\n",
    "\n",
    "    maximum = 0\n",
    "    position = 0\n",
    "    for i in range(building_cnt):\n",
    "        sum = 0\n",
    "        for j in range(len(result)):\n",
    "            sum += int(result[j][i])\n",
    "        if sum > maximum:\n",
    "            maximum = sum\n",
    "            position = i\n",
    "\n",
    "    print(maximum)\n"
   ]
  },
  {
   "cell_type": "code",
   "execution_count": 2,
   "metadata": {},
   "outputs": [
    {
     "name": "stdout",
     "output_type": "stream",
     "text": [
      "Please enter building number : 4\n",
      "Please enter rows using 0,1 digits . Enter \"END\" when you finished\n",
      "0,0,0,0\n",
      "0,1,0,0\n",
      "0,1,1,0\n",
      "1,1,1,1\n",
      "END\n",
      "3\n"
     ]
    }
   ],
   "source": [
    "main()"
   ]
  },
  {
   "cell_type": "code",
   "execution_count": 3,
   "metadata": {},
   "outputs": [
    {
     "name": "stdout",
     "output_type": "stream",
     "text": [
      "Please enter building number : 4\n",
      "Please enter rows using 0,1 digits . Enter \"END\" when you finished\n",
      "0,1,0,0\n",
      "0,1,0,0\n",
      "0,1,1,0\n",
      "1,1,1,1\n",
      "END\n",
      "4\n"
     ]
    }
   ],
   "source": [
    "main()"
   ]
  },
  {
   "cell_type": "code",
   "execution_count": 4,
   "metadata": {},
   "outputs": [
    {
     "name": "stdout",
     "output_type": "stream",
     "text": [
      "Please enter building number : 4\n",
      "Please enter rows using 0,1 digits . Enter \"END\" when you finished\n",
      "0,0,0,0\n",
      "0,0,0,0\n",
      "1,1,1,0\n",
      "1,1,1,1\n",
      "END\n",
      "2\n"
     ]
    }
   ],
   "source": [
    "main()"
   ]
  }
 ],
 "metadata": {
  "kernelspec": {
   "display_name": "Python 3",
   "language": "python",
   "name": "python3"
  },
  "language_info": {
   "codemirror_mode": {
    "name": "ipython",
    "version": 3
   },
   "file_extension": ".py",
   "mimetype": "text/x-python",
   "name": "python",
   "nbconvert_exporter": "python",
   "pygments_lexer": "ipython3",
   "version": "3.8.3"
  }
 },
 "nbformat": 4,
 "nbformat_minor": 4
}
